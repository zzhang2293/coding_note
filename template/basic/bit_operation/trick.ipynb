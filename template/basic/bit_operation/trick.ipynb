{
 "cells": [
  {
   "metadata": {},
   "cell_type": "markdown",
   "source": [
    "### Theorem: 如果一个bit上全是0，那么所有subset 这位都是0。如果至少一个1，那么0和1数量相等，\n",
    "### 都为 `2 ^ (n - 1)`\n",
    "\n"
   ],
   "id": "fc13eebf377e0831"
  },
  {
   "metadata": {},
   "cell_type": "markdown",
   "source": "### Theorem: bitset(a | b) + bitset(a & b) = bitset(a) + bitset(b)",
   "id": "896ddf46b819c8d1"
  },
  {
   "metadata": {
    "ExecuteTime": {
     "end_time": "2024-05-09T19:48:10.935378Z",
     "start_time": "2024-05-09T19:48:10.932Z"
    }
   },
   "cell_type": "code",
   "source": "pow(0.992, 3551)",
   "id": "78e6b2f913c95dc9",
   "outputs": [
    {
     "data": {
      "text/plain": [
       "4.101548198964139e-13"
      ]
     },
     "execution_count": 1,
     "metadata": {},
     "output_type": "execute_result"
    }
   ],
   "execution_count": 1
  },
  {
   "metadata": {},
   "cell_type": "code",
   "outputs": [],
   "execution_count": null,
   "source": "",
   "id": "c1d224d072a10e68"
  }
 ],
 "metadata": {
  "kernelspec": {
   "display_name": "Python 3",
   "language": "python",
   "name": "python3"
  },
  "language_info": {
   "codemirror_mode": {
    "name": "ipython",
    "version": 2
   },
   "file_extension": ".py",
   "mimetype": "text/x-python",
   "name": "python",
   "nbconvert_exporter": "python",
   "pygments_lexer": "ipython2",
   "version": "2.7.6"
  }
 },
 "nbformat": 4,
 "nbformat_minor": 5
}
