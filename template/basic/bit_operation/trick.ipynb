{
 "cells": [
  {
   "metadata": {},
   "cell_type": "markdown",
   "source": [
    "### Theorem: 如果一个bit上全是0，那么所有subset 这位都是0。如果至少一个1，那么0和1数量相等，\n",
    "### 都为 `2 ^ (n - 1)`\n",
    "\n"
   ],
   "id": "fc13eebf377e0831"
  },
  {
   "metadata": {},
   "cell_type": "markdown",
   "source": "### Theorem: bitset(a | b) + bitset(a & b) = bitset(a) + bitset(b)",
   "id": "896ddf46b819c8d1"
  },
  {
   "metadata": {},
   "cell_type": "code",
   "outputs": [],
   "execution_count": null,
   "source": "",
   "id": "78e6b2f913c95dc9"
  }
 ],
 "metadata": {
  "kernelspec": {
   "display_name": "Python 3",
   "language": "python",
   "name": "python3"
  },
  "language_info": {
   "codemirror_mode": {
    "name": "ipython",
    "version": 2
   },
   "file_extension": ".py",
   "mimetype": "text/x-python",
   "name": "python",
   "nbconvert_exporter": "python",
   "pygments_lexer": "ipython2",
   "version": "2.7.6"
  }
 },
 "nbformat": 4,
 "nbformat_minor": 5
}
